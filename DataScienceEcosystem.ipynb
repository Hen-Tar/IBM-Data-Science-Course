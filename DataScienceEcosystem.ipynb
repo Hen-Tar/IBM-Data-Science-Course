{
 "cells": [
  {
   "cell_type": "markdown",
   "id": "415262ea-99f8-4131-b634-53cf6063bde6",
   "metadata": {},
   "source": [
    "# Data Science Tools and Ecosystem"
   ]
  },
  {
   "cell_type": "markdown",
   "id": "a8ef8790-259f-47e8-9499-f370bea9899b",
   "metadata": {},
   "source": [
    "In this notebook, Data Science Tools and Ecosystem are summarized."
   ]
  },
  {
   "cell_type": "markdown",
   "id": "1a19e137-c6c7-4cc2-a4b4-ab7d5fc0a395",
   "metadata": {},
   "source": [
    "**Objectives:**\n",
    "+ Popular Languages in Data Science\n",
    "+ Common Libraries in Data Science\n",
    "+ Data Science Tools\n",
    "+ Arithmetic Sample"
   ]
  },
  {
   "cell_type": "markdown",
   "id": "7587ed6d-ef02-448c-a29b-79ff07bc4dfa",
   "metadata": {
    "jupyter": {
     "source_hidden": true
    },
    "tags": []
   },
   "source": [
    "Some of the popular languages that Data Scientists use are:\n",
    "1. R\n",
    "2. Python\n",
    "3. Java"
   ]
  },
  {
   "cell_type": "markdown",
   "id": "1fe6bf6d-934e-49cd-a833-dafdb3ab370b",
   "metadata": {},
   "source": [
    "Some of the commonly used libraries used by Data Scientists include:\n",
    "1. PyTorch\n",
    "2. NumPy\n",
    "3. matlotlib"
   ]
  },
  {
   "cell_type": "markdown",
   "id": "b88ca1ff-e7ad-48d1-b326-93dcc76166ee",
   "metadata": {},
   "source": [
    "|Data Science Tools|\n",
    "|-------------------|\n",
    "|Jupyter Notebook|\n",
    "|R Studio|\n",
    "|GitHub|"
   ]
  },
  {
   "cell_type": "markdown",
   "id": "de99791d-5d18-4778-b3a5-70b8debe3617",
   "metadata": {},
   "source": [
    "### Below are a few examples of evaluating arithmetic expressions in Python"
   ]
  },
  {
   "cell_type": "code",
   "execution_count": 3,
   "id": "c84c5a26-380b-4f26-95bd-df257bf1f465",
   "metadata": {
    "tags": []
   },
   "outputs": [
    {
     "data": {
      "text/plain": [
       "17"
      ]
     },
     "execution_count": 3,
     "metadata": {},
     "output_type": "execute_result"
    }
   ],
   "source": [
    "(3*4)+5\n",
    "# This a simple arithmetic expression to mutiply then add integers"
   ]
  },
  {
   "cell_type": "code",
   "execution_count": 6,
   "id": "3d67f312-7aba-409b-8a1c-d78516f39e85",
   "metadata": {
    "tags": []
   },
   "outputs": [
    {
     "name": "stdout",
     "output_type": "stream",
     "text": [
      "3.3333333333333335\n"
     ]
    }
   ],
   "source": [
    "# This will convert 200 minutes to hours by diving by 60\n",
    "Minutes = 200\n",
    "Hours = (Minutes/60)\n",
    "print(Hours)"
   ]
  },
  {
   "cell_type": "markdown",
   "id": "ab5110d6-264b-42ae-a25e-db27471aa000",
   "metadata": {},
   "source": [
    "## Author\n",
    "Rouhollah Tari"
   ]
  },
  {
   "cell_type": "code",
   "execution_count": null,
   "id": "39aa0488-2a2c-4d91-b5f4-ede92f913256",
   "metadata": {},
   "outputs": [],
   "source": []
  }
 ],
 "metadata": {
  "kernelspec": {
   "display_name": "Python",
   "language": "python",
   "name": "conda-env-python-py"
  },
  "language_info": {
   "codemirror_mode": {
    "name": "ipython",
    "version": 3
   },
   "file_extension": ".py",
   "mimetype": "text/x-python",
   "name": "python",
   "nbconvert_exporter": "python",
   "pygments_lexer": "ipython3",
   "version": "3.7.12"
  }
 },
 "nbformat": 4,
 "nbformat_minor": 5
}
